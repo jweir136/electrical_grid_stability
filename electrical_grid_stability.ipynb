{
  "nbformat": 4,
  "nbformat_minor": 0,
  "metadata": {
    "colab": {
      "name": "electrical_grid_stability.ipynb",
      "version": "0.3.2",
      "provenance": [],
      "collapsed_sections": [],
      "include_colab_link": true
    },
    "kernelspec": {
      "name": "python3",
      "display_name": "Python 3"
    }
  },
  "cells": [
    {
      "cell_type": "markdown",
      "metadata": {
        "id": "view-in-github",
        "colab_type": "text"
      },
      "source": [
        "<a href=\"https://colab.research.google.com/github/jweir136/electrical_grid_stability/blob/master/electrical_grid_stability.ipynb\" target=\"_parent\"><img src=\"https://colab.research.google.com/assets/colab-badge.svg\" alt=\"Open In Colab\"/></a>"
      ]
    },
    {
      "metadata": {
        "id": "7e9erZktRlwq",
        "colab_type": "code",
        "colab": {}
      },
      "cell_type": "code",
      "source": [
        "import pandas as pd\n",
        "\n",
        "data = pd.read_csv(\"electrical_grid_stability.csv\")"
      ],
      "execution_count": 0,
      "outputs": []
    },
    {
      "metadata": {
        "id": "aqTBKUxpR6I3",
        "colab_type": "code",
        "colab": {
          "base_uri": "https://localhost:8080/",
          "height": 34
        },
        "outputId": "659615ac-3a96-42db-a38d-16751f9e6dc7"
      },
      "cell_type": "code",
      "source": [
        "data.shape"
      ],
      "execution_count": 2,
      "outputs": [
        {
          "output_type": "execute_result",
          "data": {
            "text/plain": [
              "(10000, 14)"
            ]
          },
          "metadata": {
            "tags": []
          },
          "execution_count": 2
        }
      ]
    },
    {
      "metadata": {
        "id": "XMwYOTToR7lP",
        "colab_type": "code",
        "colab": {
          "base_uri": "https://localhost:8080/",
          "height": 204
        },
        "outputId": "1b598b9e-2e93-469f-9f57-e86560eaa8e6"
      },
      "cell_type": "code",
      "source": [
        "data.head()"
      ],
      "execution_count": 27,
      "outputs": [
        {
          "output_type": "execute_result",
          "data": {
            "text/html": [
              "<div>\n",
              "<style scoped>\n",
              "    .dataframe tbody tr th:only-of-type {\n",
              "        vertical-align: middle;\n",
              "    }\n",
              "\n",
              "    .dataframe tbody tr th {\n",
              "        vertical-align: top;\n",
              "    }\n",
              "\n",
              "    .dataframe thead th {\n",
              "        text-align: right;\n",
              "    }\n",
              "</style>\n",
              "<table border=\"1\" class=\"dataframe\">\n",
              "  <thead>\n",
              "    <tr style=\"text-align: right;\">\n",
              "      <th></th>\n",
              "      <th>tau1</th>\n",
              "      <th>tau2</th>\n",
              "      <th>tau3</th>\n",
              "      <th>tau4</th>\n",
              "      <th>p1</th>\n",
              "      <th>p2</th>\n",
              "      <th>p3</th>\n",
              "      <th>p4</th>\n",
              "      <th>g1</th>\n",
              "      <th>g2</th>\n",
              "      <th>g3</th>\n",
              "      <th>g4</th>\n",
              "      <th>stab</th>\n",
              "      <th>stabf</th>\n",
              "    </tr>\n",
              "  </thead>\n",
              "  <tbody>\n",
              "    <tr>\n",
              "      <th>0</th>\n",
              "      <td>2.959060</td>\n",
              "      <td>3.079885</td>\n",
              "      <td>8.381025</td>\n",
              "      <td>9.780754</td>\n",
              "      <td>3.763085</td>\n",
              "      <td>-0.782604</td>\n",
              "      <td>-1.257395</td>\n",
              "      <td>-1.723086</td>\n",
              "      <td>0.650456</td>\n",
              "      <td>0.859578</td>\n",
              "      <td>0.887445</td>\n",
              "      <td>0.958034</td>\n",
              "      <td>0.055347</td>\n",
              "      <td>0</td>\n",
              "    </tr>\n",
              "    <tr>\n",
              "      <th>1</th>\n",
              "      <td>9.304097</td>\n",
              "      <td>4.902524</td>\n",
              "      <td>3.047541</td>\n",
              "      <td>1.369357</td>\n",
              "      <td>5.067812</td>\n",
              "      <td>-1.940058</td>\n",
              "      <td>-1.872742</td>\n",
              "      <td>-1.255012</td>\n",
              "      <td>0.413441</td>\n",
              "      <td>0.862414</td>\n",
              "      <td>0.562139</td>\n",
              "      <td>0.781760</td>\n",
              "      <td>-0.005957</td>\n",
              "      <td>1</td>\n",
              "    </tr>\n",
              "    <tr>\n",
              "      <th>2</th>\n",
              "      <td>8.971707</td>\n",
              "      <td>8.848428</td>\n",
              "      <td>3.046479</td>\n",
              "      <td>1.214518</td>\n",
              "      <td>3.405158</td>\n",
              "      <td>-1.207456</td>\n",
              "      <td>-1.277210</td>\n",
              "      <td>-0.920492</td>\n",
              "      <td>0.163041</td>\n",
              "      <td>0.766689</td>\n",
              "      <td>0.839444</td>\n",
              "      <td>0.109853</td>\n",
              "      <td>0.003471</td>\n",
              "      <td>0</td>\n",
              "    </tr>\n",
              "    <tr>\n",
              "      <th>3</th>\n",
              "      <td>0.716415</td>\n",
              "      <td>7.669600</td>\n",
              "      <td>4.486641</td>\n",
              "      <td>2.340563</td>\n",
              "      <td>3.963791</td>\n",
              "      <td>-1.027473</td>\n",
              "      <td>-1.938944</td>\n",
              "      <td>-0.997374</td>\n",
              "      <td>0.446209</td>\n",
              "      <td>0.976744</td>\n",
              "      <td>0.929381</td>\n",
              "      <td>0.362718</td>\n",
              "      <td>0.028871</td>\n",
              "      <td>0</td>\n",
              "    </tr>\n",
              "    <tr>\n",
              "      <th>4</th>\n",
              "      <td>3.134112</td>\n",
              "      <td>7.608772</td>\n",
              "      <td>4.943759</td>\n",
              "      <td>9.857573</td>\n",
              "      <td>3.525811</td>\n",
              "      <td>-1.125531</td>\n",
              "      <td>-1.845975</td>\n",
              "      <td>-0.554305</td>\n",
              "      <td>0.797110</td>\n",
              "      <td>0.455450</td>\n",
              "      <td>0.656947</td>\n",
              "      <td>0.820923</td>\n",
              "      <td>0.049860</td>\n",
              "      <td>0</td>\n",
              "    </tr>\n",
              "  </tbody>\n",
              "</table>\n",
              "</div>"
            ],
            "text/plain": [
              "       tau1      tau2      tau3      tau4        p1        p2        p3  \\\n",
              "0  2.959060  3.079885  8.381025  9.780754  3.763085 -0.782604 -1.257395   \n",
              "1  9.304097  4.902524  3.047541  1.369357  5.067812 -1.940058 -1.872742   \n",
              "2  8.971707  8.848428  3.046479  1.214518  3.405158 -1.207456 -1.277210   \n",
              "3  0.716415  7.669600  4.486641  2.340563  3.963791 -1.027473 -1.938944   \n",
              "4  3.134112  7.608772  4.943759  9.857573  3.525811 -1.125531 -1.845975   \n",
              "\n",
              "         p4        g1        g2        g3        g4      stab  stabf  \n",
              "0 -1.723086  0.650456  0.859578  0.887445  0.958034  0.055347      0  \n",
              "1 -1.255012  0.413441  0.862414  0.562139  0.781760 -0.005957      1  \n",
              "2 -0.920492  0.163041  0.766689  0.839444  0.109853  0.003471      0  \n",
              "3 -0.997374  0.446209  0.976744  0.929381  0.362718  0.028871      0  \n",
              "4 -0.554305  0.797110  0.455450  0.656947  0.820923  0.049860      0  "
            ]
          },
          "metadata": {
            "tags": []
          },
          "execution_count": 27
        }
      ]
    },
    {
      "metadata": {
        "id": "AyotjhcfSBPP",
        "colab_type": "code",
        "colab": {
          "base_uri": "https://localhost:8080/",
          "height": 272
        },
        "outputId": "220cb79b-4c7c-4d81-e0d6-0fb5d01684aa"
      },
      "cell_type": "code",
      "source": [
        "data.isnull().any()"
      ],
      "execution_count": 4,
      "outputs": [
        {
          "output_type": "execute_result",
          "data": {
            "text/plain": [
              "tau1     False\n",
              "tau2     False\n",
              "tau3     False\n",
              "tau4     False\n",
              "p1       False\n",
              "p2       False\n",
              "p3       False\n",
              "p4       False\n",
              "g1       False\n",
              "g2       False\n",
              "g3       False\n",
              "g4       False\n",
              "stab     False\n",
              "stabf    False\n",
              "dtype: bool"
            ]
          },
          "metadata": {
            "tags": []
          },
          "execution_count": 4
        }
      ]
    },
    {
      "metadata": {
        "id": "SlcjBF1CSDDe",
        "colab_type": "text"
      },
      "cell_type": "markdown",
      "source": [
        "looks like there are no missing values!"
      ]
    },
    {
      "metadata": {
        "id": "f2OFc2fgSFUO",
        "colab_type": "code",
        "colab": {
          "base_uri": "https://localhost:8080/",
          "height": 255
        },
        "outputId": "7ea8b196-6665-4929-8e1f-047ea62d1856"
      },
      "cell_type": "code",
      "source": [
        "data.corr()['stab']"
      ],
      "execution_count": 5,
      "outputs": [
        {
          "output_type": "execute_result",
          "data": {
            "text/plain": [
              "tau1    0.275761\n",
              "tau2    0.290975\n",
              "tau3    0.280700\n",
              "tau4    0.278576\n",
              "p1      0.010278\n",
              "p2      0.006255\n",
              "p3     -0.003321\n",
              "p4     -0.020786\n",
              "g1      0.282774\n",
              "g2      0.293601\n",
              "g3      0.308235\n",
              "g4      0.279214\n",
              "stab    1.000000\n",
              "Name: stab, dtype: float64"
            ]
          },
          "metadata": {
            "tags": []
          },
          "execution_count": 5
        }
      ]
    },
    {
      "metadata": {
        "id": "k_GcSRUKSM_n",
        "colab_type": "text"
      },
      "cell_type": "markdown",
      "source": [
        "Looks like none of the features have a very strong corrlation with the predictor."
      ]
    },
    {
      "metadata": {
        "id": "-n6k1Q-PSSnB",
        "colab_type": "code",
        "colab": {}
      },
      "cell_type": "code",
      "source": [
        "import matplotlib.pyplot as plt\n",
        "%matplotlib inline"
      ],
      "execution_count": 0,
      "outputs": []
    },
    {
      "metadata": {
        "id": "zlDYofcBSWn1",
        "colab_type": "code",
        "colab": {
          "base_uri": "https://localhost:8080/",
          "height": 569
        },
        "outputId": "7a12732c-ce61-43ce-810d-ecd6eb9415c2"
      },
      "cell_type": "code",
      "source": [
        "data.hist()"
      ],
      "execution_count": 7,
      "outputs": [
        {
          "output_type": "execute_result",
          "data": {
            "text/plain": [
              "array([[<matplotlib.axes._subplots.AxesSubplot object at 0x7f2ed9c6d908>,\n",
              "        <matplotlib.axes._subplots.AxesSubplot object at 0x7f2ed9beb0f0>,\n",
              "        <matplotlib.axes._subplots.AxesSubplot object at 0x7f2ed9b9fc50>,\n",
              "        <matplotlib.axes._subplots.AxesSubplot object at 0x7f2ed9bbc7f0>],\n",
              "       [<matplotlib.axes._subplots.AxesSubplot object at 0x7f2ed9b168d0>,\n",
              "        <matplotlib.axes._subplots.AxesSubplot object at 0x7f2ed9b16908>,\n",
              "        <matplotlib.axes._subplots.AxesSubplot object at 0x7f2ed9afa710>,\n",
              "        <matplotlib.axes._subplots.AxesSubplot object at 0x7f2ed9aaed30>],\n",
              "       [<matplotlib.axes._subplots.AxesSubplot object at 0x7f2ed9a6e390>,\n",
              "        <matplotlib.axes._subplots.AxesSubplot object at 0x7f2ed9a1d550>,\n",
              "        <matplotlib.axes._subplots.AxesSubplot object at 0x7f2ed99d2be0>,\n",
              "        <matplotlib.axes._subplots.AxesSubplot object at 0x7f2ed9991240>],\n",
              "       [<matplotlib.axes._subplots.AxesSubplot object at 0x7f2ed99c7780>,\n",
              "        <matplotlib.axes._subplots.AxesSubplot object at 0x7f2ed9951b38>,\n",
              "        <matplotlib.axes._subplots.AxesSubplot object at 0x7f2ed992cef0>,\n",
              "        <matplotlib.axes._subplots.AxesSubplot object at 0x7f2ed98ea550>]],\n",
              "      dtype=object)"
            ]
          },
          "metadata": {
            "tags": []
          },
          "execution_count": 7
        },
        {
          "output_type": "display_data",
          "data": {
            "image/png": "[encoded data removed]",
            "text/plain": [
              "<matplotlib.figure.Figure at 0x7f2ee9e5ffd0>"
            ]
          },
          "metadata": {
            "tags": []
          }
        }
      ]
    },
    {
      "metadata": {
        "id": "awR6IrjjSsln",
        "colab_type": "code",
        "colab": {}
      },
      "cell_type": "code",
      "source": [
        "from sklearn.pipeline import Pipeline, FeatureUnion\n",
        "from sklearn.base import BaseEstimator, TransformerMixin\n",
        "from sklearn.preprocessing import PolynomialFeatures, StandardScaler, OneHotEncoder\n",
        "from sklearn.linear_model import LinearRegression"
      ],
      "execution_count": 0,
      "outputs": []
    },
    {
      "metadata": {
        "id": "ZM5mO_T1TyWW",
        "colab_type": "code",
        "colab": {}
      },
      "cell_type": "code",
      "source": [
        "class DataFrameSelector(BaseEstimator, TransformerMixin):\n",
        "  def __init__(self, columns):\n",
        "    self.columns = columns\n",
        "  def fit(self, X, y=None):\n",
        "    return self\n",
        "  def transform(self, X, y=None):\n",
        "    return X[self.columns]"
      ],
      "execution_count": 0,
      "outputs": []
    },
    {
      "metadata": {
        "id": "Q-d3YPntUQlG",
        "colab_type": "code",
        "colab": {}
      },
      "cell_type": "code",
      "source": [
        "data['stabf'] = pd.get_dummies(data['stabf'])"
      ],
      "execution_count": 0,
      "outputs": []
    },
    {
      "metadata": {
        "id": "sAcXxsPgU5Gu",
        "colab_type": "code",
        "colab": {}
      },
      "cell_type": "code",
      "source": [
        "preprocessing_pipe = FeatureUnion([\n",
        "    (\"scaler\", StandardScaler()),\n",
        "    (\"poly\", PolynomialFeatures(degree=1)),\n",
        "])\n",
        "\n",
        "pipe1 = Pipeline([\n",
        "    (\"pre\", preprocessing_pipe),\n",
        "    (\"lr\", LinearRegression())\n",
        "])"
      ],
      "execution_count": 0,
      "outputs": []
    },
    {
      "metadata": {
        "id": "9TLHUnLpWEm9",
        "colab_type": "code",
        "colab": {}
      },
      "cell_type": "code",
      "source": [
        "from sklearn.model_selection import train_test_split, GridSearchCV\n",
        "\n",
        "X = data.drop(['stab'], axis=1)\n",
        "Y = data['stab']\n",
        "\n",
        "trainX, testX, trainY, testY = train_test_split(X.values, Y.values, test_size=.2)\n",
        "\n",
        "trainX = pd.DataFrame(trainX, columns=X.keys())\n",
        "trainY = pd.DataFrame(trainY, columns=['stab'])"
      ],
      "execution_count": 0,
      "outputs": []
    },
    {
      "metadata": {
        "id": "fCw3KniWVo1l",
        "colab_type": "code",
        "colab": {
          "base_uri": "https://localhost:8080/",
          "height": 972
        },
        "outputId": "8a391732-78e1-4f57-b69a-76fecaa98fe2"
      },
      "cell_type": "code",
      "source": [
        "params = {\n",
        "    \"pre__poly__degree\":[1,2,3,4]\n",
        "}\n",
        "\n",
        "grid = GridSearchCV(pipe1, params, cv=5, scoring='neg_mean_squared_error', verbose=3)\n",
        "grid.fit(trainX, trainY)"
      ],
      "execution_count": 20,
      "outputs": [
        {
          "output_type": "stream",
          "text": [
            "Fitting 5 folds for each of 4 candidates, totalling 20 fits\n",
            "[CV] pre__poly__degree=1 .............................................\n",
            "[CV]  pre__poly__degree=1, score=-0.00024806365905520584, total=   0.0s\n",
            "[CV] pre__poly__degree=1 .............................................\n",
            "[CV]  pre__poly__degree=1, score=-0.00024957882238602443, total=   0.0s\n",
            "[CV] pre__poly__degree=1 .............................................\n",
            "[CV]  pre__poly__degree=1, score=-0.0002419829749316954, total=   0.0s\n",
            "[CV] pre__poly__degree=1 .............................................\n"
          ],
          "name": "stdout"
        },
        {
          "output_type": "stream",
          "text": [
            "[Parallel(n_jobs=1)]: Using backend SequentialBackend with 1 concurrent workers.\n",
            "[Parallel(n_jobs=1)]: Done   1 out of   1 | elapsed:    0.0s remaining:    0.0s\n",
            "[Parallel(n_jobs=1)]: Done   2 out of   2 | elapsed:    0.1s remaining:    0.0s\n"
          ],
          "name": "stderr"
        },
        {
          "output_type": "stream",
          "text": [
            "[CV] . pre__poly__degree=1, score=-0.000257922276461016, total=   0.0s\n",
            "[CV] pre__poly__degree=1 .............................................\n",
            "[CV]  pre__poly__degree=1, score=-0.0002588816075006103, total=   0.0s\n",
            "[CV] pre__poly__degree=2 .............................................\n",
            "[CV]  pre__poly__degree=2, score=-9.852602137732374e-05, total=   0.2s\n",
            "[CV] pre__poly__degree=2 .............................................\n",
            "[CV]  pre__poly__degree=2, score=-0.00010323916364834428, total=   0.1s\n",
            "[CV] pre__poly__degree=2 .............................................\n",
            "[CV]  pre__poly__degree=2, score=-0.00010251006948264363, total=   0.2s\n",
            "[CV] pre__poly__degree=2 .............................................\n",
            "[CV] . pre__poly__degree=2, score=-9.96231060151138e-05, total=   0.1s\n",
            "[CV] pre__poly__degree=2 .............................................\n",
            "[CV]  pre__poly__degree=2, score=-0.00010827728131919436, total=   0.1s\n",
            "[CV] pre__poly__degree=3 .............................................\n",
            "[CV] . pre__poly__degree=3, score=-5.12554517543407e-05, total=   0.8s\n",
            "[CV] pre__poly__degree=3 .............................................\n",
            "[CV]  pre__poly__degree=3, score=-5.307905714841949e-05, total=   0.7s\n",
            "[CV] pre__poly__degree=3 .............................................\n",
            "[CV]  pre__poly__degree=3, score=-5.058010998944823e-05, total=   0.7s\n",
            "[CV] pre__poly__degree=3 .............................................\n",
            "[CV]  pre__poly__degree=3, score=-5.210875143468108e-05, total=   0.7s\n",
            "[CV] pre__poly__degree=3 .............................................\n",
            "[CV]  pre__poly__degree=3, score=-5.6240124133747556e-05, total=   0.7s\n",
            "[CV] pre__poly__degree=4 .............................................\n",
            "[CV] . pre__poly__degree=4, score=-4.98959051854423e-05, total=  11.4s\n",
            "[CV] pre__poly__degree=4 .............................................\n",
            "[CV]  pre__poly__degree=4, score=-5.307213241205153e-05, total=  11.2s\n",
            "[CV] pre__poly__degree=4 .............................................\n",
            "[CV]  pre__poly__degree=4, score=-4.778991777470057e-05, total=  11.5s\n",
            "[CV] pre__poly__degree=4 .............................................\n",
            "[CV]  pre__poly__degree=4, score=-4.761185842176078e-05, total=  11.1s\n",
            "[CV] pre__poly__degree=4 .............................................\n",
            "[CV]  pre__poly__degree=4, score=-5.2870209575611396e-05, total=  11.2s\n"
          ],
          "name": "stdout"
        },
        {
          "output_type": "stream",
          "text": [
            "[Parallel(n_jobs=1)]: Done  20 out of  20 | elapsed:  1.1min finished\n"
          ],
          "name": "stderr"
        },
        {
          "output_type": "execute_result",
          "data": {
            "text/plain": [
              "GridSearchCV(cv=5, error_score='raise-deprecating',\n",
              "       estimator=Pipeline(memory=None,\n",
              "     steps=[('pre', FeatureUnion(n_jobs=None,\n",
              "       transformer_list=[('scaler', StandardScaler(copy=True, with_mean=True, with_std=True)), ('poly', PolynomialFeatures(degree=1, include_bias=True, interaction_only=False))],\n",
              "       transformer_weights=None)), ('lr', LinearRegression(copy_X=True, fit_intercept=True, n_jobs=None,\n",
              "         normalize=False))]),\n",
              "       fit_params=None, iid='warn', n_jobs=None,\n",
              "       param_grid={'pre__poly__degree': [1, 2, 3, 4]},\n",
              "       pre_dispatch='2*n_jobs', refit=True, return_train_score='warn',\n",
              "       scoring='neg_mean_squared_error', verbose=3)"
            ]
          },
          "metadata": {
            "tags": []
          },
          "execution_count": 20
        }
      ]
    },
    {
      "metadata": {
        "id": "zxj_QPqMZxFN",
        "colab_type": "code",
        "colab": {
          "base_uri": "https://localhost:8080/",
          "height": 34
        },
        "outputId": "4ab95b89-3515-487c-c12b-f91d8803594e"
      },
      "cell_type": "code",
      "source": [
        "grid.best_params_"
      ],
      "execution_count": 21,
      "outputs": [
        {
          "output_type": "execute_result",
          "data": {
            "text/plain": [
              "{'pre__poly__degree': 4}"
            ]
          },
          "metadata": {
            "tags": []
          },
          "execution_count": 21
        }
      ]
    },
    {
      "metadata": {
        "id": "jLiSqfRqeqom",
        "colab_type": "text"
      },
      "cell_type": "markdown",
      "source": [
        "The data has a degree of 4!"
      ]
    },
    {
      "metadata": {
        "id": "b0o_2oR_fUDP",
        "colab_type": "code",
        "colab": {}
      },
      "cell_type": "code",
      "source": [
        "import numpy as np"
      ],
      "execution_count": 0,
      "outputs": []
    },
    {
      "metadata": {
        "id": "RruedvUBes68",
        "colab_type": "code",
        "colab": {
          "base_uri": "https://localhost:8080/",
          "height": 34
        },
        "outputId": "a02e797c-433e-40cc-f0cf-d56436c32edc"
      },
      "cell_type": "code",
      "source": [
        "np.sqrt(-grid.best_score_)"
      ],
      "execution_count": 26,
      "outputs": [
        {
          "output_type": "execute_result",
          "data": {
            "text/plain": [
              "0.00708858269853102"
            ]
          },
          "metadata": {
            "tags": []
          },
          "execution_count": 26
        }
      ]
    },
    {
      "metadata": {
        "id": "WxvtuCmufXKo",
        "colab_type": "text"
      },
      "cell_type": "markdown",
      "source": [
        "Not too bad of a score!"
      ]
    }
  ]
}